{
 "cells": [
  {
   "cell_type": "code",
   "execution_count": null,
   "metadata": {},
   "outputs": [],
   "source": [
    "# Pancreatic Cancer Detection Notebook"
   ]
  },
  {
   "cell_type": "code",
   "execution_count": 2,
   "metadata": {},
   "outputs": [],
   "source": [
    "import pandas as pd"
   ]
  },
  {
   "cell_type": "markdown",
   "metadata": {},
   "source": [
    "# Data Loading and Preprocessing \n",
    "\n",
    "Ideas we should probably do for both datasets:\n",
    "    - load data. remove any Null/NaN data, see if there are negative values and remove those if applicable.\n",
    "    - if blank data cells, impute the data. scale the appropriate data columns\n",
    "\n",
    "\n",
    "    - split the dataset into X and y subsets for passing into models\n",
    "        - which really means also split into 80/20; 80% training(validation included) and 20% test\n",
    "\n",
    "    - Note: we should do some data visualizations --> heatmaps? histograms of label distributions for proof\n",
    "        - of good splits. mutual information??? (need to better understand if its useful)\n"
   ]
  },
  {
   "cell_type": "markdown",
   "metadata": {},
   "source": [
    "# Model Creation\n",
    "\n",
    "- we want to initialize all 4 models, probably default hyperparameters for most values.\n",
    "    - it's 4 models per dataset, so we'll have 8 in total"
   ]
  },
  {
   "cell_type": "markdown",
   "metadata": {},
   "source": [
    "# Training and Validation\n",
    "\n",
    "- Train the models using 10-fold cross validation \n",
    "    - we can probably do this in 2 separate cross-validation loops. \n",
    "        - first one is for urinary dataset and we train/validate all 4 models (get their scores and loss? too)\n",
    "        - repeat for second dataset"
   ]
  },
  {
   "cell_type": "markdown",
   "metadata": {},
   "source": [
    "# Testing Models\n",
    "\n",
    "- Test each of the models on the appropriate dataset and store values\n"
   ]
  },
  {
   "cell_type": "markdown",
   "metadata": {},
   "source": [
    "# Significance Analysis of Results\n",
    "\n",
    "- Do the McNemar test here for each of the models (8?) to compare"
   ]
  },
  {
   "cell_type": "markdown",
   "metadata": {},
   "source": [
    "# Comparison Across Datasets\n",
    "\n",
    "- take urinary dataset models and try to predict on other dataset's test samples and vice versa\n",
    "    - draw conclusions on the accuracy percentage and based on this, we can determine if the urinary biomarkers\n",
    "        - are generalizeable to use on other data for predicting pancreatic cancer"
   ]
  },
  {
   "cell_type": "markdown",
   "metadata": {},
   "source": [
    "# ------------- NON URINARY DATA WORK --------"
   ]
  },
  {
   "cell_type": "code",
   "execution_count": 12,
   "metadata": {},
   "outputs": [
    {
     "name": "stdout",
     "output_type": "stream",
     "text": [
      "             pat_43_T  pat_01_T  pat_02_T  pat_45_T  pat_03_T  pat_04_T  \\\n",
      "DDX11L1             0         0         0         0         0         0   \n",
      "WASH7P              1         2        13         3         1         0   \n",
      "MIR6859-1          15        15        23         1        22         2   \n",
      "MIR1302-2HG         0         0         0         0         0         0   \n",
      "MIR1302-2           0         0         0         0         0         0   \n",
      "...               ...       ...       ...       ...       ...       ...   \n",
      "MT-ND6           9218      2687      2761      3587      2062      5795   \n",
      "MT-TE               9        11         1         4         0         5   \n",
      "MT-CYB         146786     66226     34925     54750     49839    463102   \n",
      "MT-TT              91        11        21        94        18        59   \n",
      "MT-TP              27         5         5         1        14        37   \n",
      "\n",
      "             pat_05_T  pat_06_T  pat_48_T  pat_07_T  ...  pat_56_T  pat_74_T  \\\n",
      "DDX11L1             0         0         0         0  ...         0         0   \n",
      "WASH7P              3         2         1         2  ...         3         0   \n",
      "MIR6859-1          15        20        15        18  ...         9         8   \n",
      "MIR1302-2HG         0         0         0         0  ...         0         0   \n",
      "MIR1302-2           0         0         0         0  ...         0         0   \n",
      "...               ...       ...       ...       ...  ...       ...       ...   \n",
      "MT-ND6           5275      3704      9784      5655  ...      3507      3307   \n",
      "MT-TE               3         6         7         4  ...         1         0   \n",
      "MT-CYB         106866     71749    176857     77703  ...     63665    147277   \n",
      "MT-TT              14        25        72        30  ...         5        23   \n",
      "MT-TP               1        15        28        16  ...         4        19   \n",
      "\n",
      "             pat_75_T  pat_58_T  pat_76_T  pat_77_T  pat_59_T  pat_60_T  \\\n",
      "DDX11L1             0         0         0         0         0         0   \n",
      "WASH7P              1         1         6         1         1         0   \n",
      "MIR6859-1           4        12        13         1         2         6   \n",
      "MIR1302-2HG         0         0         0         0         0         0   \n",
      "MIR1302-2           0         0         0         0         0         0   \n",
      "...               ...       ...       ...       ...       ...       ...   \n",
      "MT-ND6           2986      1589      7376      1526       951      1506   \n",
      "MT-TE               4         1         3         8         4         2   \n",
      "MT-CYB         130811     80845    312148    115043     99564    112927   \n",
      "MT-TT              53        14       157         6         2        19   \n",
      "MT-TP               6         7        17         9         4         5   \n",
      "\n",
      "             pat_78_T  pat_79_T  \n",
      "DDX11L1             0         0  \n",
      "WASH7P              1         4  \n",
      "MIR6859-1           5        14  \n",
      "MIR1302-2HG         0         0  \n",
      "MIR1302-2           0         0  \n",
      "...               ...       ...  \n",
      "MT-ND6           6882      5018  \n",
      "MT-TE               9        10  \n",
      "MT-CYB         216025    167044  \n",
      "MT-TT             115        74  \n",
      "MT-TP              27        17  \n",
      "\n",
      "[59050 rows x 79 columns]\n"
     ]
    }
   ],
   "source": [
    "rawData1 = pd.read_csv(\"pancreaticCancerRNAseqData/GSE232860_allsamples.deseq.normalized.counts.csv\")\n",
    "#print(rawData1.shape)\n",
    "\n",
    "\n",
    "#Slow loading, 48,553 rows\n",
    "#rawData2 = pd.read_excel(\"pancreaticCancerRNAseqData/GSE245306_FKPM.xlsx\")\n",
    "#print(rawData2.shape)\n",
    "\n",
    "#59050 rows\n",
    "rawData3 = pd.read_csv(\"pancreaticCancerRNAseqData/tumor.counts.sub.tsv\", sep='\\t')\n",
    "#print(rawData3)"
   ]
  }
 ],
 "metadata": {
  "kernelspec": {
   "display_name": "base",
   "language": "python",
   "name": "python3"
  },
  "language_info": {
   "codemirror_mode": {
    "name": "ipython",
    "version": 3
   },
   "file_extension": ".py",
   "mimetype": "text/x-python",
   "name": "python",
   "nbconvert_exporter": "python",
   "pygments_lexer": "ipython3",
   "version": "3.7.6"
  }
 },
 "nbformat": 4,
 "nbformat_minor": 2
}
