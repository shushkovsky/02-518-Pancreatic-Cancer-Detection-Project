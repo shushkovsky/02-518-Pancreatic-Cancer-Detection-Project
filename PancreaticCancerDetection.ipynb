{
 "cells": [
  {
   "cell_type": "code",
   "execution_count": null,
   "metadata": {},
   "outputs": [],
   "source": [
    "# Pancreatic Cancer Detection Notebook"
   ]
  },
  {
   "cell_type": "code",
   "execution_count": 5,
   "metadata": {},
   "outputs": [],
   "source": [
    "import pandas as pd\n",
    "import numpy as np"
   ]
  },
  {
   "cell_type": "markdown",
   "metadata": {},
   "source": [
    "# Data Loading and Preprocessing \n",
    "\n",
    "Ideas we should probably do for both datasets:\n",
    "    - load data. remove any Null/NaN data, see if there are negative values and remove those if applicable.\n",
    "    - if blank data cells, impute the data. scale the appropriate data columns\n",
    "\n",
    "\n",
    "    - split the dataset into X and y subsets for passing into models\n",
    "        - which really means also split into 80/20; 80% training(validation included) and 20% test\n",
    "\n",
    "    - Note: we should do some data visualizations --> heatmaps? histograms of label distributions for proof\n",
    "        - of good splits. mutual information??? (need to better understand if its useful)\n"
   ]
  },
  {
   "cell_type": "code",
   "execution_count": 6,
   "metadata": {},
   "outputs": [
    {
     "name": "stdout",
     "output_type": "stream",
     "text": [
      "     diagnosis  creatinine     LYVE1       REG1B         TFF1\n",
      "0            1     1.83222  0.893219   52.948840   654.282174\n",
      "1            1     0.97266  2.037585   94.467030   209.488250\n",
      "2            1     0.78039  0.145589  102.366000   461.141000\n",
      "3            1     0.70122  0.002805   60.579000   142.950000\n",
      "4            1     0.21489  0.000860   65.540000    41.088000\n",
      "..         ...         ...       ...         ...          ...\n",
      "585          3     0.52026  7.058209  156.241000   525.178000\n",
      "586          3     0.85956  8.341207   16.915000   245.947000\n",
      "587          3     1.36851  7.674707  289.701000   537.286000\n",
      "588          3     1.33458  8.206777  205.930000   722.523000\n",
      "589          3     1.50423  8.200958  411.938275  2021.321078\n",
      "\n",
      "[590 rows x 5 columns]\n"
     ]
    }
   ],
   "source": [
    "# Loading urinary biomarker dataset\n",
    "urinary_df = pd.read_csv('urinaryBiomarkerData.csv')\n",
    "urinary_df = urinary_df.drop(columns=['sample_id','patient_cohort','sample_origin','age','sex','stage','benign_sample_diagnosis','plasma_CA19_9','REG1A'])\n",
    "print(urinary_df)"
   ]
  },
  {
   "cell_type": "code",
   "execution_count": 14,
   "metadata": {},
   "outputs": [
    {
     "data": {
      "text/plain": [
       "diagnosis     0\n",
       "creatinine    0\n",
       "LYVE1         0\n",
       "REG1B         0\n",
       "TFF1          0\n",
       "dtype: int64"
      ]
     },
     "execution_count": 14,
     "metadata": {},
     "output_type": "execute_result"
    }
   ],
   "source": [
    "# Preprocessing urinary biomarker dataset\n",
    "# Note: There are no negative or Null/NaN values in the dataset\n",
    "# So, no need to remove samples or impute the data\n",
    "# Scale the appropriate data columns"
   ]
  },
  {
   "cell_type": "markdown",
   "metadata": {},
   "source": [
    "# Model Creation\n",
    "\n",
    "- we want to initialize all 4 models, probably default hyperparameters for most values.\n",
    "    - it's 4 models per dataset, so we'll have 8 in total"
   ]
  },
  {
   "cell_type": "markdown",
   "metadata": {},
   "source": [
    "# Training and Validation\n",
    "\n",
    "- Train the models using 10-fold cross validation \n",
    "    - we can probably do this in 2 separate cross-validation loops. \n",
    "        - first one is for urinary dataset and we train/validate all 4 models (get their scores and loss? too)\n",
    "        - repeat for second dataset"
   ]
  },
  {
   "cell_type": "markdown",
   "metadata": {},
   "source": [
    "# Testing Models\n",
    "\n",
    "- Test each of the models on the appropriate dataset and store values\n"
   ]
  },
  {
   "cell_type": "markdown",
   "metadata": {},
   "source": [
    "# Significance Analysis of Results\n",
    "\n",
    "- Do the McNemar test here for each of the models (8?) to compare"
   ]
  },
  {
   "cell_type": "markdown",
   "metadata": {},
   "source": [
    "# Comparison Across Datasets\n",
    "\n",
    "- take urinary dataset models and try to predict on other dataset's test samples and vice versa\n",
    "    - draw conclusions on the accuracy percentage and based on this, we can determine if the urinary biomarkers\n",
    "        - are generalizeable to use on other data for predicting pancreatic cancer"
   ]
  },
  {
   "cell_type": "markdown",
   "metadata": {},
   "source": [
    "# ------------- NON URINARY DATA WORK --------"
   ]
  },
  {
   "cell_type": "markdown",
   "metadata": {},
   "source": [
    "### Normal pancreas RNA-seq data"
   ]
  },
  {
   "cell_type": "code",
   "execution_count": 58,
   "metadata": {},
   "outputs": [
    {
     "name": "stdout",
     "output_type": "stream",
     "text": [
      "    LYVE1  TFF1  REG1B  GPX1\n",
      "0       1     0      0  5925\n",
      "1       0     0      0  6520\n",
      "2       0    14      0  4899\n",
      "3       0     7      1  5882\n",
      "4       0     4      0  4279\n",
      "5       0    12      0  3314\n",
      "6       0     1      0  4659\n",
      "7       0     0      0  4370\n",
      "8       0    11      0  4033\n",
      "9       0     5      0  2866\n",
      "10      1     0      0  7057\n",
      "11      1     0      0  5737\n",
      "12      0     6      0  5096\n",
      "13      0     8      2  4481\n",
      "14      2     4      0  3867\n",
      "15      0    11      0  4731\n",
      "16      0     4      0  4539\n",
      "17      0     2      0  4218\n",
      "18      1     6      0  3802\n",
      "19      0    10      0  3586\n",
      "20      3     0      0  8534\n",
      "21      0     0      0  7313\n",
      "22      0    12      0  7994\n",
      "23      0     8      1  5321\n",
      "24      0     3      0  4551\n",
      "25      3     5      0  3980\n",
      "26      0     0      0  3512\n",
      "27      0     3      0  3196\n",
      "28      0     7      0  2899\n",
      "29      2     9      0  2725\n"
     ]
    }
   ],
   "source": [
    "# Normal pancreas dataset 1\n",
    "markers = ['LYVE1','TFF1','REG1B','GPX1']\n",
    "\n",
    "rawPancNormData1 = pd.read_csv(\"pancreaticNormalSeqData/GSE205163_znf808_ko_raw_counts_S0-S4.tsv\",  sep='\\t')\n",
    "filtRawPancNormData1 = rawPancNormData1[rawPancNormData1['Gene'].str.endswith(('LYVE1','REG1B','TFF1','GPX1'))]\n",
    "filtRawPancNormData1 = filtRawPancNormData1.set_index('Gene')\n",
    "filtRawPancNormData1 = filtRawPancNormData1.transpose()\n",
    "filtRawPancNormData1 = filtRawPancNormData1.reset_index(drop=True)\n",
    "filtRawPancNormData1.columns = markers\n",
    "print(filtRawPancNormData1)"
   ]
  },
  {
   "cell_type": "code",
   "execution_count": 49,
   "metadata": {},
   "outputs": [
    {
     "name": "stdout",
     "output_type": "stream",
     "text": [
      "gene     REG1B         GPX1       TFF1     LYVE1\n",
      "0     0.000000  1338.152011   0.743831  1.487662\n",
      "1     0.000000  1317.741727  11.420428  0.000000\n",
      "2     0.000000  1233.423715   7.913809  0.000000\n",
      "3     0.000000   987.178392   7.446389  2.127540\n",
      "4     0.000000   914.030573  10.528101  0.000000\n",
      "5     0.000000   791.104182  18.776207  1.251747\n",
      "6     0.000000   911.572944   5.683123  2.273249\n",
      "7     0.000000   833.529266   6.872444  0.000000\n",
      "8     0.000000   781.476317   1.154322  1.154322\n",
      "9     0.000000  1594.628915   0.000000  0.000000\n",
      "10    0.000000  1626.013137   0.832999  0.000000\n",
      "11    0.000000  1660.088216   0.996452  0.000000\n",
      "12    0.000000  2062.778781   0.000000  0.000000\n",
      "13    0.000000  1804.216658   0.000000  0.000000\n",
      "14    0.000000  1785.490649   0.000000  0.000000\n",
      "15    1.186684  3163.700430   2.373369  2.373369\n",
      "16    0.000000  2551.999220   0.000000  0.000000\n",
      "17    0.000000  2735.777773   0.857342  0.000000\n",
      "18    0.000000   967.223814   1.952673  0.000000\n",
      "19    0.000000  1044.773549   3.107595  0.000000\n",
      "20    0.000000   964.214695   1.719765  0.000000\n",
      "21    0.000000  2072.738525   0.000000  1.062943\n",
      "22    0.000000  1690.133880   0.985501  0.985501\n",
      "23    0.000000  1857.118902   1.150631  0.000000\n",
      "24    0.000000  2401.971202   0.000000  0.000000\n",
      "25    0.000000  2670.031226   0.000000  1.194111\n",
      "26    0.000000  2432.394277   6.937805  0.000000\n",
      "27    0.000000  2181.156160   4.186480  0.000000\n",
      "28    0.000000  2180.094891   0.000000  2.912618\n",
      "29    0.000000  1825.645617   0.000000  0.774892\n",
      "30    0.000000  1506.978558   1.115454  0.000000\n",
      "31    0.000000  2673.924772   0.990343  0.000000\n",
      "32    0.000000  1865.459877   0.000000  0.000000\n",
      "33    0.000000  2116.972992   2.254497  0.000000\n",
      "34    0.000000  2082.468600   0.000000  0.000000\n",
      "35    0.000000  2333.116002   0.000000  0.000000\n",
      "36    1.479512  1880.460377   0.000000  0.000000\n",
      "37    0.000000  1783.852825   0.000000  0.000000\n",
      "38    0.000000  1885.722531   0.000000  2.083671\n",
      "39    0.000000  1996.041694   0.000000  1.043409\n",
      "40    0.000000  1972.321419   0.000000  0.000000\n",
      "41    0.000000  1807.196247   0.000000  0.000000\n"
     ]
    }
   ],
   "source": [
    "# Normal pancreas dataset 2\n",
    "rawPancNormData2 = pd.read_csv(\"pancreaticNormalSeqData/GSE216854_normalized_counts.txt\", sep='\\t')\n",
    "filtRawPancNormData2 = rawPancNormData2[rawPancNormData2['gene'].isin(markers)]\n",
    "filtRawPancNormData2 = filtRawPancNormData2.set_index('gene')\n",
    "filtRawPancNormData2 = filtRawPancNormData2.transpose()\n",
    "filtRawPancNormData2 = filtRawPancNormData2.reset_index(drop=True)\n",
    "print(filtRawPancNormData2)"
   ]
  },
  {
   "cell_type": "code",
   "execution_count": 57,
   "metadata": {},
   "outputs": [
    {
     "name": "stdout",
     "output_type": "stream",
     "text": [
      "symbol  LYVE1  TFF1  REG1B  GPX1\n",
      "0           0   117      0  2187\n",
      "1           0   189      0  2722\n",
      "2           1   127      0  1834\n",
      "3           1    87      0  1795\n",
      "4           0   122      0  1796\n",
      "..        ...   ...    ...   ...\n",
      "62          0    40      0  1087\n",
      "63          2    25      0  1412\n",
      "64          0    14      0  1539\n",
      "65          1    26      0  1208\n",
      "66          0    22      0  1436\n",
      "\n",
      "[67 rows x 4 columns]\n"
     ]
    }
   ],
   "source": [
    "# Normal pancreas dataset 3\n",
    "rawPancNormData3 = pd.read_csv(\"pancreaticNormalSeqData/GSE228662_RNA_raw_read_counts.tsv\", sep='\\t')\n",
    "filtRawPancNormData3 = rawPancNormData3[rawPancNormData3['symbol'].isin(markers)]\n",
    "filtRawPancNormData3 = filtRawPancNormData3.set_index('symbol')\n",
    "filtRawPancNormData3 = filtRawPancNormData3.drop(columns=['chrom','start','end','gene'])\n",
    "filtRawPancNormData3 = filtRawPancNormData3.transpose()\n",
    "filtRawPancNormData3 = filtRawPancNormData3.reset_index(drop=True)\n",
    "print(filtRawPancNormData3)"
   ]
  },
  {
   "cell_type": "code",
   "execution_count": null,
   "metadata": {},
   "outputs": [],
   "source": [
    "# Merging all 3 normal pancreas datasets\n",
    "filtRawPancNormData3\n",
    "#1: LYVE1  TFF1  REG1B  GPX1\n",
    "#2: REG1B  GPX1  TFF1   LYVE1\n",
    "#3: LYVE1  TFF1  REG1B  GPX1\n",
    "\n",
    "# swap cols in dataset 2\n",
    "# merge all 3 datasets"
   ]
  },
  {
   "cell_type": "code",
   "execution_count": 59,
   "metadata": {},
   "outputs": [],
   "source": [
    "# Processing normal pancreas data\n",
    "\n",
    "# impute data\n",
    "# drop NA?"
   ]
  },
  {
   "cell_type": "markdown",
   "metadata": {},
   "source": [
    "### Pancreatic cancer RNA-seq data"
   ]
  },
  {
   "cell_type": "code",
   "execution_count": 43,
   "metadata": {},
   "outputs": [],
   "source": [
    "rawPancCancData1 = pd.read_csv(\"pancreaticCancerSeqData/GSE232860_allsamples.deseq.normalized.counts.csv\")\n",
    "#print(rawPancCancData1.shape)\n",
    "\n",
    "\n",
    "#Slow loading, 48,553 rows\n",
    "#rawPancCancData2 = pd.read_excel(\"pancreaticCancerSeqData/GSE245306_FKPM.xlsx\")\n",
    "#print(rawPancCancData2.shape)\n",
    "\n",
    "#59050 rows\n",
    "rawPancCancData3 = pd.read_csv(\"pancreaticCancerSeqData/tumor.counts.sub.tsv\", sep='\\t')\n",
    "#print(rawPancCancData3)"
   ]
  },
  {
   "cell_type": "code",
   "execution_count": 65,
   "metadata": {},
   "outputs": [
    {
     "name": "stdout",
     "output_type": "stream",
     "text": [
      "(17966, 23)\n",
      "0        Tff1          Reg1A       Lyve1          Gpx1          Reg1B\n",
      "1   86.519650    1152.208802  111.477242   7915.716067    1152.208802\n",
      "2   99.259037    2032.652444   81.133473   6992.151782    2032.652444\n",
      "3   95.638935    6535.034757   80.722771   8339.013202    6535.034757\n",
      "4   42.385798   10158.844770   61.860354   7007.403411   10158.844770\n",
      "5    6.260937   39103.310850  152.766873  10529.644580   39103.310850\n",
      "6   33.793363    6810.356633  189.839188   7140.338886    6810.356633\n",
      "7    4.244787    3628.231888  217.545346   8391.944362    3628.231888\n",
      "8    2.204342   60100.287620  598.478904   6179.873328   60100.287620\n",
      "9    4.750487    3313.939555  153.915771   7932.362771    3313.939555\n",
      "10  21.847610   16311.226750  294.942730   6057.746312   16311.226750\n",
      "11  42.165889    2393.872495  151.413873   8880.711134    2393.872495\n",
      "12  35.099226    1474.167487  128.697162   6995.958204    1474.167487\n",
      "13   0.000000   82462.293950   26.049017   8902.410494   82462.293950\n",
      "14   7.920592   73107.061400  117.488777   6914.676555   73107.061400\n",
      "15  25.489878   72214.523880  129.148716   8844.987689   72214.523880\n",
      "16   0.000000    5156.973066   92.805067   8337.512807    5156.973066\n",
      "17   0.000000  476139.735800  114.099453   6897.583625  476139.735800\n",
      "18   0.000000    1093.919310   92.606926   9185.449446    1093.919310\n",
      "19  12.181416   98986.799420  177.848681   6617.554505   98986.799420\n",
      "20   0.000000   40920.243230  100.045418   9186.670473   40920.243230\n",
      "21   0.000000   98409.599640   51.803614  11290.531360   98409.599640\n",
      "22   0.000000  108693.029400  119.300066   6966.929880  108693.029400\n"
     ]
    }
   ],
   "source": [
    "#Only has Reg1, not Reg1B or Reg1A, so we take Reg1 and apply it to both rows\n",
    "rowsToKeep = [\"Gpx1\", \"Lyve1\", \"Reg1\", \"Tff1\", \"Reg1\"]\n",
    "rawPancCancData1.rename(columns={'Unnamed: 0': 'GeneNames'}, inplace=True)\n",
    "print(rawPancCancData1.shape)\n",
    "\n",
    "filtRawPancCancData1 = rawPancCancData1[rawPancCancData1['GeneNames'].isin(rowsToKeep)]\n",
    "filtRawPancCancData1 = filtRawPancCancData1.transpose()\n",
    "filtRawPancCancData1.reset_index(inplace=True, drop=True)\n",
    "filtRawPancCancData1.columns = filtRawPancCancData1.iloc[0]\n",
    "filtRawPancCancData1 = filtRawPancCancData1[1:]\n",
    "\n",
    "filtRawPancCancData1[\"Reg1B\"] = filtRawPancCancData1[\"Reg1\"].copy()\n",
    "filtRawPancCancData1.rename(columns={'Reg1': 'Reg1A'}, inplace=True)\n",
    "\n",
    "# Impute missing values in each column if needed\n",
    "filtRawPancCancData1 = filtRawPancCancData1.fillna(filtRawPancCancData1.median())\n",
    "print(filtRawPancCancData1)\n",
    "\n",
    "\n",
    "\n"
   ]
  }
 ],
 "metadata": {
  "kernelspec": {
   "display_name": "base",
   "language": "python",
   "name": "python3"
  },
  "language_info": {
   "codemirror_mode": {
    "name": "ipython",
    "version": 3
   },
   "file_extension": ".py",
   "mimetype": "text/x-python",
   "name": "python",
   "nbconvert_exporter": "python",
   "pygments_lexer": "ipython3",
   "version": "3.9.6"
  }
 },
 "nbformat": 4,
 "nbformat_minor": 2
}
